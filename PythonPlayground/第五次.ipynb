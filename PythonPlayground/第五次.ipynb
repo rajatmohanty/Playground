{
 "cells": [
  {
   "cell_type": "code",
   "execution_count": 3,
   "metadata": {},
   "outputs": [
    {
     "name": "stdout",
     "output_type": "stream",
     "text": [
      "0.42316814191282437\n"
     ]
    }
   ],
   "source": [
    "import pandas as pd\n",
    "df=pd.read_csv('ChinaStockA.csv', encoding='gbk')\n",
    "bank = df[df['industry']=='银行']\n",
    "bank.reset_index()\n",
    "bank_profit = bank['esp'] * bank['totals']\n",
    "all_profit = df['esp'] * df['totals']\n",
    "print(bank_profit.sum() / all_profit.sum())"
   ]
  },
  {
   "cell_type": "code",
   "execution_count": 7,
   "metadata": {},
   "outputs": [
    {
     "name": "stdout",
     "output_type": "stream",
     "text": [
      "year\n",
      "1991         NaN\n",
      "1992    2.538462\n",
      "1993   -0.239130\n",
      "1994   -0.542857\n",
      "1995   -0.312500\n",
      "1996    2.363636\n",
      "1997    0.810811\n",
      "1998   -0.328358\n",
      "1999    0.266667\n",
      "2000    0.561404\n",
      "2001   -0.033708\n",
      "2002   -0.267442\n",
      "2003    0.380952\n",
      "2004    0.218391\n",
      "2005    0.264151\n",
      "2006    2.671642\n",
      "2007    1.817073\n",
      "2008   -0.639971\n",
      "2009    0.683367\n",
      "2010   -0.232143\n",
      "2011   -0.080620\n",
      "2012    0.374368\n",
      "2013   -0.193865\n",
      "2014    0.826484\n",
      "2015    0.818333\n",
      "2016   -0.123740\n",
      "2017    0.562762\n",
      "2018   -0.186747\n",
      "Name: close, dtype: float64\n"
     ]
    }
   ],
   "source": [
    "import pandas as pd\n",
    "import time\n",
    "df=pd.read_csv('wanke.csv', encoding='GBK')\n",
    "df['year'] = df['date'].apply(lambda x: time.strptime(x, '%Y-%M-%d'))\n",
    "df['year'] = df['year'].apply(lambda x: time.strftime('%Y', x))\n",
    "grouped = df.groupby('year').last()\n",
    "print(grouped['close'].pct_change())"
   ]
  },
  {
   "cell_type": "code",
   "execution_count": null,
   "metadata": {},
   "outputs": [],
   "source": []
  }
 ],
 "metadata": {
  "kernelspec": {
   "display_name": "Python 3",
   "language": "python",
   "name": "python3"
  },
  "language_info": {
   "codemirror_mode": {
    "name": "ipython",
    "version": 3
   },
   "file_extension": ".py",
   "mimetype": "text/x-python",
   "name": "python",
   "nbconvert_exporter": "python",
   "pygments_lexer": "ipython3",
   "version": "3.6.2"
  }
 },
 "nbformat": 4,
 "nbformat_minor": 2
}
